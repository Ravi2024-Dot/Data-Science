{
 "cells": [
  {
   "cell_type": "code",
   "execution_count": 40,
   "id": "28412b99-a1db-4070-8984-a082db283089",
   "metadata": {},
   "outputs": [
    {
     "name": "stdout",
     "output_type": "stream",
     "text": [
      "This is my first jupiter notebook code, and its awesome !! \n",
      " Python\n"
     ]
    }
   ],
   "source": [
    "#This is jupiter notebook and its a case sensitve language.\n",
    "\n",
    "print (\"This is my first jupiter notebook code, and its awesome !! \\n Python\")"
   ]
  },
  {
   "cell_type": "code",
   "execution_count": 22,
   "id": "b4387c23-a787-438e-8860-642e826d7c36",
   "metadata": {},
   "outputs": [
    {
     "name": "stdout",
     "output_type": "stream",
     "text": [
      "C.Ravi Chandran\n"
     ]
    }
   ],
   "source": [
    "print (\"C.Ravi Chandran\")"
   ]
  },
  {
   "cell_type": "code",
   "execution_count": 33,
   "id": "85a09546-33f8-4268-80ee-3f801ed671c1",
   "metadata": {},
   "outputs": [
    {
     "data": {
      "text/plain": [
       "-239"
      ]
     },
     "execution_count": 33,
     "metadata": {},
     "output_type": "execute_result"
    }
   ],
   "source": [
    "#Normal Math\n",
    "\n",
    "15-254"
   ]
  },
  {
   "cell_type": "code",
   "execution_count": 4,
   "id": "a7ae265a-216e-47d6-b2d6-495705a7ada1",
   "metadata": {},
   "outputs": [
    {
     "name": "stdout",
     "output_type": "stream",
     "text": [
      "Above result is an normal math coding on jupiter noteok\n"
     ]
    }
   ],
   "source": [
    "print (\"Above result is an normal math coding on jupiter noteok\")"
   ]
  },
  {
   "cell_type": "code",
   "execution_count": 31,
   "id": "66b3177b-74ac-4f97-8ef0-64dea99c72f6",
   "metadata": {},
   "outputs": [],
   "source": [
    "#This is just normal text to check markdown \n",
    "#this is a case sensitve language"
   ]
  },
  {
   "cell_type": "markdown",
   "id": "56e4656f-53df-4fc9-87c3-c14b0cc83084",
   "metadata": {},
   "source": [
    "# Shortcuts\n",
    "\n",
    "to add cell above the current cell - Esc+A\n",
    "\n",
    "to add cell below the current cell - ESC+B\n",
    "\n",
    "To delete a cell ESC+D+D\n",
    "\n",
    "to execute a cell - CTRL+ENTR"
   ]
  }
 ],
 "metadata": {
  "kernelspec": {
   "display_name": "Python 3 (ipykernel)",
   "language": "python",
   "name": "python3"
  },
  "language_info": {
   "codemirror_mode": {
    "name": "ipython",
    "version": 3
   },
   "file_extension": ".py",
   "mimetype": "text/x-python",
   "name": "python",
   "nbconvert_exporter": "python",
   "pygments_lexer": "ipython3",
   "version": "3.12.4"
  }
 },
 "nbformat": 4,
 "nbformat_minor": 5
}
